{
 "cells": [
  {
   "cell_type": "code",
   "execution_count": 3,
   "metadata": {},
   "outputs": [],
   "source": [
    "import geopandas as gpd\n",
    "import pandas as pd\n",
    "from shapely.geometry import Point\n",
    "from tqdm import tqdm"
   ]
  },
  {
   "cell_type": "code",
   "execution_count": 4,
   "metadata": {},
   "outputs": [],
   "source": [
    "dissemination_area_file = \"data/statscan/census_2021/dissemination_areas/lda_000a21a_e/lda_000a21a_e.shp\"\n",
    "census_file = \"data/statscan/census_2021/98-401-X2021006_Quebec_eng_CSV/98-401-X2021006_English_CSV_data_Quebec.csv\"\n",
    "census_encoding = \"ISO-8859-1\""
   ]
  },
  {
   "cell_type": "code",
   "execution_count": null,
   "metadata": {},
   "outputs": [],
   "source": [
    "# Read dissemination area file\n",
    "dissemination_areas = gpd.read_file(dissemination_area_file)\n",
    "print(dissemination_areas.head())"
   ]
  },
  {
   "cell_type": "code",
   "execution_count": null,
   "metadata": {},
   "outputs": [],
   "source": [
    "# Read census file (~6 GB)\n",
    "census = pd.read_csv(census_file, encoding=census_encoding)\n",
    "print(census.head())"
   ]
  },
  {
   "cell_type": "code",
   "execution_count": 5,
   "metadata": {},
   "outputs": [],
   "source": [
    "dissemination_areas_dguids = dissemination_areas[\"DGUID\"]\n",
    "census_dguids = census[\"DGUID\"]"
   ]
  },
  {
   "cell_type": "code",
   "execution_count": null,
   "metadata": {},
   "outputs": [],
   "source": [
    "common_dguids = set(dissemination_areas_dguids) & set(census_dguids)\n",
    "print(len(common_dguids))\n",
    "print(list(common_dguids)[:5])"
   ]
  },
  {
   "cell_type": "code",
   "execution_count": null,
   "metadata": {},
   "outputs": [],
   "source": [
    "census_qc = census[census[\"DGUID\"].isin(common_dguids)]\n",
    "dissemination_areas_qc = dissemination_areas[dissemination_areas[\"DGUID\"].isin(common_dguids)]\n",
    "\n",
    "print(f\"census_qc: {len(census_qc)}/{len(census)} ({len(census_qc)/len(census)}%)\")\n",
    "print(f\"dissemination_areas_qc: {len(dissemination_areas_qc)}/{len(dissemination_areas)} ({len(dissemination_areas_qc)/len(dissemination_areas)*100} %)\")"
   ]
  },
  {
   "cell_type": "markdown",
   "metadata": {},
   "source": [
    "# Part 1: Build a new census geospatial dataset for Quebec\n",
    "Use dissemination areas as spatial unit."
   ]
  },
  {
   "cell_type": "code",
   "execution_count": 8,
   "metadata": {},
   "outputs": [],
   "source": [
    "def combine_hierarchical_rows(df, characteristics_of_interest, indent_column='CHARACTERISTIC_NAME'):\n",
    "    # Create a copy of the dataframe\n",
    "    df = df.copy()\n",
    "    \n",
    "    # Find indentation level for each row\n",
    "    df['indent_level'] = df[indent_column].str.len() - df[indent_column].str.lstrip().str.len()\n",
    "    \n",
    "    result_rows = []\n",
    "    \n",
    "    for characteristic in characteristics_of_interest:\n",
    "        # Find each occurrence of the characteristic\n",
    "        char_indices = df[df[indent_column].str.strip() == characteristic].index\n",
    "        \n",
    "        for char_idx in char_indices:\n",
    "            # Add the characteristic row itself\n",
    "            current_row = df.loc[char_idx].copy()\n",
    "            current_row['parent'] = None  # or '' if you prefer\n",
    "            current_row['full_hierarchy'] = characteristic\n",
    "            result_rows.append(current_row)\n",
    "            \n",
    "            # Get the base indentation level\n",
    "            base_level = df.loc[char_idx, 'indent_level']\n",
    "            hierarchy_stack = []\n",
    "            \n",
    "            # Get all rows that come after this characteristic\n",
    "            subsequent_rows = df.loc[char_idx + 1:]\n",
    "            \n",
    "            # Keep rows until we hit another row with same or lower indentation\n",
    "            for idx, row in subsequent_rows.iterrows():\n",
    "                if row['indent_level'] <= base_level:\n",
    "                    break\n",
    "                \n",
    "                # Update hierarchy stack based on indentation\n",
    "                while hierarchy_stack and row['indent_level'] <= df.loc[hierarchy_stack[-1], 'indent_level']:\n",
    "                    hierarchy_stack.pop()\n",
    "                    \n",
    "                # Add row to results with hierarchy information\n",
    "                current_row = row.copy()\n",
    "                current_row['parent'] = characteristic if not hierarchy_stack else df.loc[hierarchy_stack[-1], indent_column].strip()\n",
    "                \n",
    "                # Build full hierarchy path\n",
    "                hierarchy_path = [characteristic] + [df.loc[i, indent_column].strip() for i in hierarchy_stack] + [row[indent_column].strip()]\n",
    "                current_row['full_hierarchy'] = \" > \".join(hierarchy_path)\n",
    "                \n",
    "                result_rows.append(current_row)\n",
    "                hierarchy_stack.append(idx)\n",
    "    \n",
    "    # Create new dataframe from collected rows\n",
    "    if result_rows:\n",
    "        result_df = pd.DataFrame(result_rows)\n",
    "        result_df = result_df.drop('indent_level', axis=1)\n",
    "        return result_df\n",
    "    else:\n",
    "        return pd.DataFrame(columns=df.columns)"
   ]
  },
  {
   "cell_type": "code",
   "execution_count": 9,
   "metadata": {},
   "outputs": [],
   "source": [
    "CHARACTERISTICS_OF_INTEREST = [\n",
    "    \"Total - Age groups of the population - 100% data\",\n",
    "    \"Population, 2021\",\n",
    "    \"Population, 2016\",\n",
    "    \"Total private dwellings\",\n",
    "    \"Private dwellings occupied by usual residents\",\n",
    "    \"Land area in square kilometres\",\n",
    "    \"Total - Household after-tax income groups in 2020 for private households - 100% data\",\n",
    "    \"Total - Income statistics for private households - 100% data\",\n",
    "    \"Unemployment rate\",\n",
    "]"
   ]
  },
  {
   "cell_type": "code",
   "execution_count": null,
   "metadata": {},
   "outputs": [],
   "source": [
    "# Pre-process census data using groupby\n",
    "census_grouped = census_qc.groupby('DGUID').apply(\n",
    "    lambda x: combine_hierarchical_rows(x, CHARACTERISTICS_OF_INTEREST, indent_column=\"CHARACTERISTIC_NAME\")\n",
    ")"
   ]
  },
  {
   "cell_type": "code",
   "execution_count": null,
   "metadata": {},
   "outputs": [],
   "source": [
    "census_grouped"
   ]
  },
  {
   "cell_type": "code",
   "execution_count": null,
   "metadata": {},
   "outputs": [],
   "source": [
    "# Create a list to store all rows\n",
    "all_rows = []\n",
    "\n",
    "# Process each DGUID\n",
    "for dguid in tqdm(common_dguids):\n",
    "    census_at_dguid = census_grouped.loc[dguid]\n",
    "    dissemination_area_at_dguid = dissemination_areas[dissemination_areas[\"DGUID\"]==dguid]\n",
    "\n",
    "    # Create the new row data\n",
    "    new_row_data = {\n",
    "        row[\"full_hierarchy\"]: row[\"C1_COUNT_TOTAL\"]\n",
    "        for _, row in census_at_dguid.iterrows()\n",
    "    }\n",
    "    new_row_data[\"DGUID\"] = dissemination_area_at_dguid[\"DGUID\"].iloc[0]\n",
    "    new_row_data[\"geometry\"] = dissemination_area_at_dguid[\"geometry\"].iloc[0]\n",
    "    all_rows.append(new_row_data)\n",
    "\n",
    "# Create final GeoDataFrame at once\n",
    "combined_gdf = gpd.GeoDataFrame(all_rows)\n",
    "combined_gdf.crs = dissemination_areas.crs\n",
    "# combined_gdf[\"DGUID\"] = combined_gdf[\"DGUID\"].astype(str)\n",
    "\n",
    "# Save files\n",
    "combined_gdf.to_parquet(\n",
    "    \"data/output/census_2021_qc_parsed.parquet\",\n",
    "    compression=\"snappy\",\n",
    "    index=False,\n",
    "    engine=\"pyarrow\",\n",
    ")"
   ]
  },
  {
   "cell_type": "code",
   "execution_count": null,
   "metadata": {},
   "outputs": [],
   "source": [
    "combined_gdf"
   ]
  },
  {
   "cell_type": "markdown",
   "metadata": {},
   "source": []
  },
  {
   "cell_type": "markdown",
   "metadata": {},
   "source": [
    "# Part 2: Combine with school data\n",
    "Goal is to associate schools to StatsCan census regions. Ultimately, we want to be able to apply census data to determine socio-economic factors that apply to schools.\n",
    "\n",
    "School district algo idea:\n",
    "- Get school lat/lon\n",
    "- Read stastcan census data in surroundinga area\n",
    "- Grow outwards, accumulating students until school is full"
   ]
  },
  {
   "cell_type": "markdown",
   "metadata": {},
   "source": [
    "TODO:\n",
    "- [x] Merge full_addresses_avec_coor.csv with merged_clusttered_data.csv (join on Code) to get lat lon with \"type\" (prive ou public) and \"Langue Enseignement\"\n",
    "- [x] Exclude rows with \"type\" == \"prive\" and \"Langue Enseignement\" == \"Anglais\""
   ]
  },
  {
   "cell_type": "markdown",
   "metadata": {},
   "source": []
  },
  {
   "cell_type": "code",
   "execution_count": null,
   "metadata": {},
   "outputs": [],
   "source": [
    "# Merge school names, ids and lat/lon into new csv\n",
    "# Merge full_addresses_avec_coor.csv with merged_clusttered_data.csv (join on Code) to get lat lon with \"Type\" (prive ou public) and \"Langue Enseignement\"\n",
    "\n",
    "a = pd.read_csv(\"data/school/merged_clustered_data.csv\", index_col=\"Address\")\n",
    "b = pd.read_csv(\"data/school/full_addresses_avec_coor.csv\", index_col=\"original_address\")\n",
    "schools = a.join(b, how=\"inner\", lsuffix=\"_a\", rsuffix=\"_b\")\n",
    "schools = schools.set_index(\"Code\")\n",
    "schools = schools[[\"School Name\", \"lat\", \"lon\", \"Full Address\", \"Code Postal\", \"Aggregate Dissemination Area Code\", \"Number of students\", \"Type\", \"Langue Enseignement\"]]\n",
    "schools.to_csv(\"data/output/schools_qc_basic.csv\")"
   ]
  },
  {
   "cell_type": "code",
   "execution_count": null,
   "metadata": {},
   "outputs": [],
   "source": [
    "print(len(a))\n",
    "print(len(b))\n",
    "print(len(schools))\n",
    "print(schools[\"Type\"].value_counts())\n",
    "print(schools[\"Langue Enseignement\"].value_counts())\n",
    "schools"
   ]
  },
  {
   "cell_type": "code",
   "execution_count": null,
   "metadata": {},
   "outputs": [],
   "source": [
    "# Now build spatial relationship between schools and stascan dissemination areas polygons\n",
    "\n",
    "# Read files\n",
    "schools = pd.read_csv(\"data/output/schools_qc_basic.csv\")\n",
    "diss_areas = gpd.read_parquet(\"data/output/census_2021_qc_parsed.parquet\")\n",
    "combined_gdf = gpd.read_parquet(\"data/output/census_2021_qc_parsed.parquet\")\n",
    "schools_gdf = gpd.GeoDataFrame(\n",
    "    schools,\n",
    "    geometry=[Point(lon, lat) for lon, lat in zip(schools['lon'], schools['lat'])],\n",
    "    crs=\"EPSG:4326\"  # Assuming input coordinates are in WGS84\n",
    ")\n",
    "\n",
    "# Keep schools that are not english and are public\n",
    "schools_fr_public_gdf = schools_gdf[(~schools_gdf[\"Langue Enseignement\"].str.contains(\"EN\", na=False)) & (schools_gdf[\"Type\"] == \"Public\")]\n",
    "print(f\"Number of schools: {len(schools_gdf)}\")\n",
    "print(f\"Number of non-english, public schools: {len(schools_fr_public_gdf)}\")\n",
    "\n",
    "# Reproject both datasets UTM\n",
    "utm_crs = schools_gdf.estimate_utm_crs()\n",
    "schools_fr_public_gdf = schools_fr_public_gdf.to_crs(utm_crs)\n",
    "diss_areas_gdf = diss_areas.to_crs(utm_crs)\n",
    "combined_gdf = combined_gdf.to_crs(utm_crs)\n",
    "\n",
    "# Match\n",
    "diss_areas_gdf = gpd.sjoin_nearest(diss_areas_gdf, schools_fr_public_gdf[['Code', 'geometry']])\n",
    "diss_areas_gdf.drop(columns=['index_right'], inplace=True)\n",
    "\n",
    "# Save full datasets\n",
    "diss_areas_gdf.to_parquet(\"data/output/census_2021_qc_parsed_with_schools_fr_public.parquet\", compression=\"snappy\", index=False, engine=\"pyarrow\")\n",
    "diss_areas_gdf.to_csv(\"data/output/census_2021_qc_parsed_with_schools_fr_public.csv\")\n",
    "# Save simple mapping only\n",
    "diss_areas_gdf[[\"DGUID\", \"Code\"]].to_csv(\"data/output/census_2021_qc_parsed_with_schools_fr_public_mapping.csv\")\n",
    "\n",
    "diss_areas_gdf.head()"
   ]
  },
  {
   "cell_type": "code",
   "execution_count": null,
   "metadata": {},
   "outputs": [],
   "source": []
  }
 ],
 "metadata": {
  "kernelspec": {
   "display_name": "data-ingestion",
   "language": "python",
   "name": "python3"
  },
  "language_info": {
   "codemirror_mode": {
    "name": "ipython",
    "version": 3
   },
   "file_extension": ".py",
   "mimetype": "text/x-python",
   "name": "python",
   "nbconvert_exporter": "python",
   "pygments_lexer": "ipython3",
   "version": "3.10.6"
  }
 },
 "nbformat": 4,
 "nbformat_minor": 2
}
